{
 "cells": [
  {
   "cell_type": "code",
   "execution_count": 8,
   "metadata": {},
   "outputs": [
    {
     "name": "stdout",
     "output_type": "stream",
     "text": [
      "('My',)\n",
      "('Name',)\n",
      "('is',)\n",
      "('Aman',)\n"
     ]
    }
   ],
   "source": [
    "from nltk import ngrams\n",
    "\n",
    "exp = \"My Name is Aman\"\n",
    "exp = exp.split()\n",
    "n = 3\n",
    "#for i in range(len(exp)-n+1):\n",
    "    #print(exp[i:i+n])\n",
    "    \n",
    "ngrams1 = ngrams(exp,1)\n",
    "\n",
    "for i in ngrams1:\n",
    "    print(i)"
   ]
  }
 ],
 "metadata": {
  "kernelspec": {
   "display_name": "Python 3",
   "language": "python",
   "name": "python3"
  },
  "language_info": {
   "codemirror_mode": {
    "name": "ipython",
    "version": 3
   },
   "file_extension": ".py",
   "mimetype": "text/x-python",
   "name": "python",
   "nbconvert_exporter": "python",
   "pygments_lexer": "ipython3",
   "version": "3.7.4"
  }
 },
 "nbformat": 4,
 "nbformat_minor": 2
}
