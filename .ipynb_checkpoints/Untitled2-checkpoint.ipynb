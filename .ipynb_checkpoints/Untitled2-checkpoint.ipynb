{
 "cells": [
  {
   "cell_type": "code",
   "execution_count": 6,
   "metadata": {},
   "outputs": [
    {
     "name": "stdout",
     "output_type": "stream",
     "text": [
      "python\n",
      "python\n",
      "pythonli\n",
      "Hi\n",
      "thi\n",
      "is\n",
      "a\n",
      "text\n",
      "that\n",
      "i\n",
      "am\n",
      "write\n",
      ".I\n",
      "want\n",
      "to\n",
      "test\n",
      "it\n"
     ]
    }
   ],
   "source": [
    "#STEMMING\n",
    "from nltk.stem import PorterStemmer\n",
    "from nltk.tokenize import word_tokenize\n",
    "\n",
    "p = PorterStemmer()\n",
    "words = ['pythonic','pythoned','pythonly']\n",
    "sentence = \"Hi this is a text that i am writing .I want to test it\"\n",
    "for w in words:\n",
    "    print(p.stem(w))\n",
    "token = word_tokenize(sentence)\n",
    "for w in token:\n",
    "    print(p.stem(w))"
   ]
  },
  {
   "cell_type": "code",
   "execution_count": 9,
   "metadata": {},
   "outputs": [
    {
     "ename": "SyntaxError",
     "evalue": "unexpected EOF while parsing (<ipython-input-9-fbfdfef83a37>, line 8)",
     "output_type": "error",
     "traceback": [
      "\u001b[1;36m  File \u001b[1;32m\"<ipython-input-9-fbfdfef83a37>\"\u001b[1;36m, line \u001b[1;32m8\u001b[0m\n\u001b[1;33m    #print(w)\u001b[0m\n\u001b[1;37m             ^\u001b[0m\n\u001b[1;31mSyntaxError\u001b[0m\u001b[1;31m:\u001b[0m unexpected EOF while parsing\n"
     ]
    }
   ],
   "source": [
    "import nltk\n",
    "from nltk.corpus import state_union\n",
    "from nltk.tokenize import PunktSentenceTokenizer\n",
    "train_text = state_union.raw(\"2005-GWBush.txt\")\n",
    "sample_text = state_union.raw(\"2006-GWBush.txt\")\n",
    "cust_tokenizer = PunktSentenceTokenizer(train_text)\n",
    "tokenized = cust_tokenizer.tokenize(sample_text)\n",
    "for w in tokenized:\n",
    "    words = word_tokenize(w)\n",
    "    tagged = nltk.pos_tag(words)\n",
    "    #print(w)"
   ]
  }
 ],
 "metadata": {
  "kernelspec": {
   "display_name": "Python 3",
   "language": "python",
   "name": "python3"
  },
  "language_info": {
   "codemirror_mode": {
    "name": "ipython",
    "version": 3
   },
   "file_extension": ".py",
   "mimetype": "text/x-python",
   "name": "python",
   "nbconvert_exporter": "python",
   "pygments_lexer": "ipython3",
   "version": "3.7.4"
  }
 },
 "nbformat": 4,
 "nbformat_minor": 2
}
