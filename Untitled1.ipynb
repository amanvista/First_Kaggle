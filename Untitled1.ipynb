{
 "cells": [
  {
   "cell_type": "code",
   "execution_count": 31,
   "metadata": {},
   "outputs": [
    {
     "data": {
      "text/plain": [
       "['United States',\n",
       " 'fellow citizens',\n",
       " 'four years',\n",
       " 'years ago',\n",
       " 'Federal Government',\n",
       " 'General Government',\n",
       " 'American people',\n",
       " 'Vice President',\n",
       " 'God bless',\n",
       " 'Chief Justice',\n",
       " 'Old World',\n",
       " 'Almighty God',\n",
       " 'Fellow citizens',\n",
       " 'Chief Magistrate',\n",
       " 'every citizen',\n",
       " 'one another',\n",
       " 'fellow Americans',\n",
       " 'Indian tribes',\n",
       " 'public debt',\n",
       " 'foreign nations']"
      ]
     },
     "execution_count": 31,
     "metadata": {},
     "output_type": "execute_result"
    }
   ],
   "source": [
    "from nltk.book import *\n",
    "text4.collocation_list()"
   ]
  }
 ],
 "metadata": {
  "kernelspec": {
   "display_name": "Python 3",
   "language": "python",
   "name": "python3"
  },
  "language_info": {
   "codemirror_mode": {
    "name": "ipython",
    "version": 3
   },
   "file_extension": ".py",
   "mimetype": "text/x-python",
   "name": "python",
   "nbconvert_exporter": "python",
   "pygments_lexer": "ipython3",
   "version": "3.7.4"
  }
 },
 "nbformat": 4,
 "nbformat_minor": 2
}
